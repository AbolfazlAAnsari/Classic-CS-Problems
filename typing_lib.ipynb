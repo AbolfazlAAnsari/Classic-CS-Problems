{
 "cells": [
  {
   "cell_type": "code",
   "execution_count": 1,
   "id": "aa8bce1f",
   "metadata": {},
   "outputs": [],
   "source": [
    "#use annotation "
   ]
  },
  {
   "cell_type": "code",
   "execution_count": 17,
   "id": "f68d9f96",
   "metadata": {},
   "outputs": [
    {
     "data": {
      "text/plain": [
       "[2.2, 4.4, 6.6]"
      ]
     },
     "execution_count": 17,
     "metadata": {},
     "output_type": "execute_result"
    }
   ],
   "source": [
    "#type alias\n",
    "from typing import List\n",
    "Vector = List[float]\n",
    "def scale(scalar: float, Vector: Vector) -> Vector:\n",
    "    return [scalar* num for num in Vector]\n",
    "#typechecks: a list of floats qualifies as a Vector. Wow\n",
    "new_vector = scale(2.0, [1.1, 2.2, 3.3])\n",
    "new_vector"
   ]
  },
  {
   "cell_type": "code",
   "execution_count": 16,
   "id": "1717b147",
   "metadata": {},
   "outputs": [
    {
     "name": "stdout",
     "output_type": "stream",
     "text": [
      "4407279\n"
     ]
    }
   ],
   "source": [
    "#alias are useful for simplifying complex type signatures\n",
    "\n",
    "#new type\n",
    "from typing import NewType\n",
    "UserId = NewType('UserId', int)\n",
    "me = UserId(4407279)\n",
    "print(me)\n",
    "#it is useful for typechecks and catch logical error like:\n",
    "def get_user_name(user_id: UserId) -> str:\n",
    "    pass\n",
    "#typechecks\n",
    "user_valid = get_user_name(UserId(4497292))\n",
    "user_invalid = get_user_name(-2)"
   ]
  },
  {
   "cell_type": "code",
   "execution_count": 26,
   "id": "fe6a7d95",
   "metadata": {},
   "outputs": [],
   "source": [
    "#to create multiple NewType:\n",
    "from typing import NewType\n",
    "UserId = NewType(\"UserId\", int)\n",
    "ProUserId = NewType(\"proUserId\", UserId)"
   ]
  }
 ],
 "metadata": {
  "kernelspec": {
   "display_name": "Python 3",
   "language": "python",
   "name": "python3"
  },
  "language_info": {
   "codemirror_mode": {
    "name": "ipython",
    "version": 3
   },
   "file_extension": ".py",
   "mimetype": "text/x-python",
   "name": "python",
   "nbconvert_exporter": "python",
   "pygments_lexer": "ipython3",
   "version": "3.7.11"
  }
 },
 "nbformat": 4,
 "nbformat_minor": 5
}
